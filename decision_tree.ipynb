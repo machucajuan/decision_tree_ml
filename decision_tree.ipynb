{
    "cells": [
        {
            "cell_type": "code",
            "execution_count": null,
            "source": [
                "#importing data analysis libraries and training dataset \r\n",
                "import pandas as pd \r\n",
                "import numpy as np \r\n",
                "df_training = pd.read_csv('udemy_entrenamiento.csv')\r\n",
                "df_test = pd.read_csv('udemy_prueba.csv')\r\n",
                "df_training.head(10) \r\n",
                "df_test.head(10) "
            ],
            "outputs": [],
            "metadata": {}
        },
        {
            "cell_type": "code",
            "execution_count": null,
            "source": [
                "#data split\r\n",
                "#step 1: separating response variable -target- from predictor variables -inputs-\r\n",
                "target_training = df_training['bestseller'] \r\n",
                "#step 2: data cleansing and prepping\r\n",
                "inputs_training =  df_training[['is_practice_test_course', 'captions', 'rating', 'num_published_lectures', 'num_published_practice_tests', 'locale', 'instructional_level_simple', 'published_date', 'last_update_date', 'category', 'list_price', 'discount_price']]\r\n",
                "inputs_training[inputs_training.columns[10:]] = inputs_training[inputs_training.columns[10:]].replace('[\\$]', '', regex=True).astype(float)\r\n",
                "inputs_training['discount_price'] = inputs_training['discount_price'].fillna(0)\r\n",
                "inputs_training[inputs_training.columns[[7,8]]] = inputs_training[inputs_training.columns[[7,8]]].replace('[\\-]', '', regex=True).astype(float)\r\n",
                "inputs_training['last_update_date'] = inputs_training['last_update_date'].fillna(0)\r\n",
                "print(inputs_training.info())\r\n",
                "inputs_training.head()"
            ],
            "outputs": [],
            "metadata": {}
        },
        {
            "cell_type": "code",
            "execution_count": null,
            "source": [
                "#label encoding inputs: find object datatype columns and create list\r\n",
                "objList = inputs_training.select_dtypes(include = \"object\").columns\r\n",
                "#print (objList)\r\n",
                "\r\n",
                "#Label Encoding for object to numeric conversion, start with inputs\r\n",
                "from sklearn.preprocessing import LabelEncoder\r\n",
                "le = LabelEncoder()\r\n",
                "\r\n",
                "for feat in objList:\r\n",
                "    inputs_training[feat] = le.fit_transform(inputs_training[feat].astype(str))\r\n",
                "\r\n",
                "print (inputs_training.info())\r\n",
                "\r\n",
                "#then le target\r\n",
                "le = LabelEncoder()\r\n",
                "target_training_dummy= pd.DataFrame(le.fit_transform(target_training))\r\n",
                "target_training_dummy.columns=['bestseller']\r\n",
                "\r\n",
                "#inputs_training.head()\r\n",
                "#label encoding alternative method:  (creates dummy variables for every category, not useful)\r\n",
                "'''from sklearn.preprocessing import LabelEncoder\r\n",
                "cat_cols = [\r\n",
                "    f for f in inputs_training.columns if inputs_training[f].dtype == 'object'\r\n",
                "]\r\n",
                "inputs_training_dummies = pd.get_dummies(inputs_training, columns=cat_cols)'''"
            ],
            "outputs": [],
            "metadata": {}
        },
        {
            "cell_type": "code",
            "execution_count": null,
            "source": [
                "#train model & split data\r\n",
                "from sklearn.model_selection import train_test_split\r\n",
                "X_train, X_test, y_train, y_test = train_test_split(inputs_training,target_training_dummy,test_size=0.2)\r\n",
                "#import and apply decision tree\r\n",
                "from sklearn import tree\r\n",
                "model = tree.DecisionTreeClassifier()\r\n",
                "model.fit(X_train,y_train)\r\n",
                "model.score(X_test,y_test)"
            ],
            "outputs": [],
            "metadata": {}
        },
        {
            "cell_type": "code",
            "execution_count": null,
            "source": [
                "#insert test data\r\n",
                "df_test_real = df_test.drop('bestseller', axis='columns')\r\n",
                "df_test_real =  df_test_real[['is_practice_test_course', 'captions', 'rating', 'num_published_lectures', 'num_published_practice_tests', 'locale', 'instructional_level_simple', 'published_date', 'last_update_date', 'category', 'list_price', 'discount_price']]\r\n",
                "df_test_real[df_test_real.columns[10:]] = df_test_real[df_test_real.columns[10:]].replace('[\\$]', '', regex=True).astype(float)\r\n",
                "df_test_real['discount_price'] = df_test_real['discount_price'].fillna(0)\r\n",
                "df_test_real[df_test_real.columns[[7,8]]] = df_test_real[df_test_real.columns[[7,8]]].replace('[\\-]', '', regex=True).astype(float)\r\n",
                "df_test_real['last_update_date'] = df_test_real['last_update_date'].fillna(0)\r\n",
                "print(df_test_real.info())\r\n",
                "df_test_real.head()"
            ],
            "outputs": [],
            "metadata": {}
        },
        {
            "cell_type": "code",
            "execution_count": null,
            "source": [
                "#label encoding for test data: find object datatype columns and create list\r\n",
                "objList_test = df_test_real.select_dtypes(include = \"object\").columns\r\n",
                "#print (objList)\r\n",
                "\r\n",
                "#Label Encoding for object to numeric conversion, start with inputs\r\n",
                "from sklearn.preprocessing import LabelEncoder\r\n",
                "le = LabelEncoder()\r\n",
                "\r\n",
                "for feat in objList:\r\n",
                "    df_test_real[feat] = le.fit_transform(df_test_real[feat].astype(str))\r\n",
                "\r\n",
                "print (df_test_real.info())"
            ],
            "outputs": [],
            "metadata": {}
        },
        {
            "cell_type": "code",
            "execution_count": null,
            "source": [
                "#predict values with test data\r\n",
                "model.predict(df_test_real) #here we get predicted values\r\n",
                "#create model object\r\n",
                "predictions = model.predict(df_test_real)\r\n",
                "# finally, insert new course data (ids), append it to new dataframe with predicted values and export it to csv for submission \r\n",
                "df_solucion = pd.read_csv('udemy_ejemplo_solucion.csv')\r\n",
                "df_solucion_2 = df_solucion['id']\r\n",
                "predictions_df=pd.DataFrame(predictions)\r\n",
                "predictions_new_df=predictions_df.join(df_solucion_2)\r\n",
                "predictions_new_df=predictions_new_df.iloc[:, [1,0]]\r\n",
                "predictions_new_df.columns=['id','bestseller']\r\n",
                "predictions_new_df\r\n",
                "predictions_new_df.to_csv('predictions_udemy_sklearn.csv', index=False,header=True)\r\n"
            ],
            "outputs": [],
            "metadata": {}
        }
    ],
    "metadata": {
        "orig_nbformat": 4,
        "language_info": {
            "name": "python",
            "version": "3.8.1",
            "mimetype": "text/x-python",
            "codemirror_mode": {
                "name": "ipython",
                "version": 3
            },
            "pygments_lexer": "ipython3",
            "nbconvert_exporter": "python",
            "file_extension": ".py"
        },
        "kernelspec": {
            "name": "python3",
            "display_name": "Python 3.8.1 64-bit"
        },
        "interpreter": {
            "hash": "a675da32ec64498fde8ac17f6fc2d4c9eb90f2749a8ee1300c882510f6e7f413"
        }
    },
    "nbformat": 4,
    "nbformat_minor": 2
}